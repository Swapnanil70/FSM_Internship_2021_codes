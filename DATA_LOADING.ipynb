{
 "cells": [
  {
   "cell_type": "code",
   "execution_count": 1,
   "metadata": {},
   "outputs": [
    {
     "name": "stdout",
     "output_type": "stream",
     "text": [
      "RMS= 368.8580468952842\n",
      "maxi= -329.306946\n",
      "mini= -406.182129\n",
      "Peak to peak= 76.87518299999999\n",
      "Mean= -368.77652189063315\n"
     ]
    }
   ],
   "source": [
    "import pandas as pd\n",
    "import numpy as np\n",
    "df=pd.read_csv('CNN44_60_0.16_0.2_480_40_03-03-2021 16_38_28.csv',sep=';')\n",
    "df.shape\n",
    "df.columns\n",
    "s=int(0.75*df.shape[0])\n",
    "trim=df.iloc[:s]\n",
    "data=np.array(trim['Value'])\n",
    "a=data**2\n",
    "m=np.mean(a)\n",
    "rms=np.sqrt(m)\n",
    "print('RMS=',rms)\n",
    "maxi=np.max(data)\n",
    "mini=np.min(data)\n",
    "print('maxi=',maxi)\n",
    "print('mini=',mini)\n",
    "diff=maxi-mini\n",
    "print('Peak to peak=',diff)\n",
    "print('Mean=',np.mean(data))"
   ]
  },
  {
   "cell_type": "code",
   "execution_count": 2,
   "metadata": {},
   "outputs": [
    {
     "name": "stdout",
     "output_type": "stream",
     "text": [
      "687000\n"
     ]
    }
   ],
   "source": [
    "s=int(0.75*df.shape[0])\n",
    "print(int(s))"
   ]
  },
  {
   "cell_type": "code",
   "execution_count": 3,
   "metadata": {},
   "outputs": [
    {
     "data": {
      "text/plain": [
       "'CNN10_70_0.25_0.2_01-03-2021 12_35_41.csv'"
      ]
     },
     "execution_count": 3,
     "metadata": {},
     "output_type": "execute_result"
    }
   ],
   "source": [
    "import os\n",
    "arr = os.listdir()\n",
    "arr = arr[2:62]\n",
    "arr[0]"
   ]
  },
  {
   "cell_type": "code",
   "execution_count": 4,
   "metadata": {},
   "outputs": [],
   "source": [
    "rms_arr = []\n",
    "max_arr = []\n",
    "mean_arr = []\n",
    "min_arr = []\n",
    "ptop_arr = []\n",
    "\n",
    "for i in range(0, 60):\n",
    "    df_1 =pd.read_csv(arr[i],sep=';')\n",
    "    s=int(0.75*df.shape[0])\n",
    "    trim=df_1.iloc[:s]\n",
    "    data=np.array(trim['Value'])\n",
    "    a=data**2\n",
    "    m=np.mean(a)\n",
    "    rms=np.sqrt(m)\n",
    "    rms_arr.append(rms)\n",
    "#     print('RMS=',rms)\n",
    "    maxi=np.max(data)\n",
    "    mini=np.min(data)\n",
    "    max_arr.append(maxi)\n",
    "    min_arr.append(mini)\n",
    "#     print('maxi=',maxi)\n",
    "#     print('mini=',mini)\n",
    "    diff=maxi-mini\n",
    "    ptop_arr.append(diff)\n",
    "    mean_arr.append(np.mean(data))\n",
    "#     print('Peak to peak=',diff)\n",
    "#     print('Mean=',np.mean(data)) \n"
   ]
  },
  {
   "cell_type": "code",
   "execution_count": 22,
   "metadata": {},
   "outputs": [],
   "source": [
    "'''rms_arr = np.array(rms_arr)\n",
    "min_arr = np.array(min_arr)\n",
    "max_arr = np.array(max_arr)\n",
    "ptop_arr = np.array(ptop_arr)\n",
    "mean_arr = np.array(mean_arr)'''\n",
    "# rms_arr\n",
    "# min_arr\n",
    "# max_arr\n",
    "# ptop_arr\n",
    "# mean_arr\n",
    "list3 = zip(rms_arr, min_arr, max_arr, mean_arr, ptop_arr)\n",
    "df_1 = pd.DataFrame(list3, columns = ('RMS', 'MIN_I', 'MAX_I', 'MEAN', 'P2P'))\n",
    "df_1\n",
    "# df_1.to_excel('D:/Internship 2021/Project Data and Codes/Lathe Vibration Project Data/Classification_data.xlsx', sheet_name='Sheet1') uncomment the line when needed"
   ]
  },
  {
   "cell_type": "code",
   "execution_count": null,
   "metadata": {},
   "outputs": [],
   "source": []
  }
 ],
 "metadata": {
  "kernelspec": {
   "display_name": "Python 3",
   "language": "python",
   "name": "python3"
  },
  "language_info": {
   "codemirror_mode": {
    "name": "ipython",
    "version": 3
   },
   "file_extension": ".py",
   "mimetype": "text/x-python",
   "name": "python",
   "nbconvert_exporter": "python",
   "pygments_lexer": "ipython3",
   "version": "3.9.6"
  }
 },
 "nbformat": 4,
 "nbformat_minor": 2
}

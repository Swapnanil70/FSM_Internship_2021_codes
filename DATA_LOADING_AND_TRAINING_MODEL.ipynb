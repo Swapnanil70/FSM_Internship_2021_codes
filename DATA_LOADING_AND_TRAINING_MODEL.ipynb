{
 "cells": [
  {
   "cell_type": "code",
   "execution_count": 1,
   "metadata": {},
   "outputs": [],
   "source": [
    "# import pandas as pd\n",
    "# import numpy as np\n",
    "# df=pd.read_csv('CNN44_60_0.16_0.2_480_40_03-03-2021 16_38_28.csv',sep=';')\n",
    "# df.shape\n",
    "# df.columns\n",
    "# s=int(0.75*df.shape[0])\n",
    "# trim=df.iloc[:s]\n",
    "# data=np.array(trim['Value'])\n",
    "# a=data**2\n",
    "# m=np.mean(a)\n",
    "# rms=np.sqrt(m)\n",
    "# print('RMS=',rms)\n",
    "# maxi=np.max(data)\n",
    "# mini=np.min(data)\n",
    "# print('maxi=',maxi)\n",
    "# print('mini=',mini)\n",
    "# diff=maxi-mini\n",
    "# print('Peak to peak=',diff)\n",
    "# print('Mean=',np.mean(data))"
   ]
  },
  {
   "cell_type": "code",
   "execution_count": 2,
   "metadata": {},
   "outputs": [],
   "source": [
    "# s=int(0.75*df.shape[0])\n",
    "# print(int(s))"
   ]
  },
  {
   "cell_type": "code",
   "execution_count": 3,
   "metadata": {},
   "outputs": [],
   "source": [
    "# import os\n",
    "# arr = os.listdir()\n",
    "# arr = arr[2:62]\n",
    "# arr[0]"
   ]
  },
  {
   "cell_type": "code",
   "execution_count": 4,
   "metadata": {},
   "outputs": [],
   "source": [
    "# rms_arr = []\n",
    "# max_arr = []\n",
    "# mean_arr = []\n",
    "# min_arr = []\n",
    "# ptop_arr = []\n",
    "\n",
    "# for i in range(0, 60):\n",
    "#     df_1 =pd.read_csv(arr[i],sep=';')\n",
    "#     s=int(0.75*df.shape[0])\n",
    "#     trim=df_1.iloc[:s]\n",
    "#     data=np.array(trim['Value'])\n",
    "#     a=data**2\n",
    "#     m=np.mean(a)\n",
    "#     rms=np.sqrt(m)\n",
    "#     rms_arr.append(rms)\n",
    "# #     print('RMS=',rms)\n",
    "#     maxi=np.max(data)\n",
    "#     mini=np.min(data)\n",
    "#     max_arr.append(maxi)\n",
    "#     min_arr.append(mini)\n",
    "# #     print('maxi=',maxi)\n",
    "# #     print('mini=',mini)\n",
    "#     diff=maxi-mini\n",
    "#     ptop_arr.append(diff)\n",
    "#     mean_arr.append(np.mean(data))\n",
    "# #     print('Peak to peak=',diff)\n",
    "# #     print('Mean=',np.mean(data)) \n"
   ]
  },
  {
   "cell_type": "code",
   "execution_count": 5,
   "metadata": {},
   "outputs": [
    {
     "data": {
      "text/plain": [
       "\"list3 = zip(rms_arr, min_arr, max_arr, mean_arr, ptop_arr)\\ndf_1 = pd.DataFrame(list3, columns = ('RMS', 'MIN_I', 'MAX_I', 'MEAN', 'P2P'))\\ndf_1\""
      ]
     },
     "execution_count": 5,
     "metadata": {},
     "output_type": "execute_result"
    }
   ],
   "source": [
    "'''rms_arr = np.array(rms_arr)\n",
    "min_arr = np.array(min_arr)\n",
    "max_arr = np.array(max_arr)\n",
    "ptop_arr = np.array(ptop_arr)\n",
    "mean_arr = np.array(mean_arr)'''\n",
    "# rms_arr\n",
    "# min_arr\n",
    "# max_arr\n",
    "# ptop_arr\n",
    "# mean_arr\n",
    "'''list3 = zip(rms_arr, min_arr, max_arr, mean_arr, ptop_arr)\n",
    "df_1 = pd.DataFrame(list3, columns = ('RMS', 'MIN_I', 'MAX_I', 'MEAN', 'P2P'))\n",
    "df_1'''\n",
    "# df_1.to_excel('D:/Internship 2021/Project Data and Codes/Lathe Vibration Project Data/Classification_data.xlsx', sheet_name='Sheet1') uncomment the line when needed"
   ]
  },
  {
   "cell_type": "code",
   "execution_count": 26,
   "metadata": {},
   "outputs": [],
   "source": [
    "import pandas as pd\n",
    "from sklearn.model_selection import train_test_split\n",
    "from sklearn.linear_model import LogisticRegression\n",
    "from sklearn import metrics\n",
    "from sklearn.metrics import confusion_matrix, classification_report\n",
    "import seaborn as sn\n",
    "import matplotlib.pyplot as plt"
   ]
  },
  {
   "cell_type": "code",
   "execution_count": 27,
   "metadata": {},
   "outputs": [
    {
     "data": {
      "text/html": [
       "<div>\n",
       "<style scoped>\n",
       "    .dataframe tbody tr th:only-of-type {\n",
       "        vertical-align: middle;\n",
       "    }\n",
       "\n",
       "    .dataframe tbody tr th {\n",
       "        vertical-align: top;\n",
       "    }\n",
       "\n",
       "    .dataframe thead th {\n",
       "        text-align: right;\n",
       "    }\n",
       "</style>\n",
       "<table border=\"1\" class=\"dataframe\">\n",
       "  <thead>\n",
       "    <tr style=\"text-align: right;\">\n",
       "      <th></th>\n",
       "      <th>EXP_NO</th>\n",
       "      <th>RMS</th>\n",
       "      <th>MIN_I</th>\n",
       "      <th>MAX_I</th>\n",
       "      <th>MEAN</th>\n",
       "      <th>P2P</th>\n",
       "      <th>STATUS</th>\n",
       "      <th>LABEL</th>\n",
       "    </tr>\n",
       "  </thead>\n",
       "  <tbody>\n",
       "    <tr>\n",
       "      <th>0</th>\n",
       "      <td>0</td>\n",
       "      <td>369.778456</td>\n",
       "      <td>-412.006744</td>\n",
       "      <td>-324.709839</td>\n",
       "      <td>-369.685592</td>\n",
       "      <td>87.296905</td>\n",
       "      <td>1</td>\n",
       "      <td>NORMAL</td>\n",
       "    </tr>\n",
       "    <tr>\n",
       "      <th>1</th>\n",
       "      <td>1</td>\n",
       "      <td>369.435434</td>\n",
       "      <td>-427.049622</td>\n",
       "      <td>-311.159180</td>\n",
       "      <td>-369.361992</td>\n",
       "      <td>115.890442</td>\n",
       "      <td>1</td>\n",
       "      <td>NORMAL</td>\n",
       "    </tr>\n",
       "    <tr>\n",
       "      <th>2</th>\n",
       "      <td>2</td>\n",
       "      <td>369.370142</td>\n",
       "      <td>-405.845154</td>\n",
       "      <td>-328.079437</td>\n",
       "      <td>-369.276471</td>\n",
       "      <td>77.765717</td>\n",
       "      <td>1</td>\n",
       "      <td>NORMAL</td>\n",
       "    </tr>\n",
       "    <tr>\n",
       "      <th>3</th>\n",
       "      <td>3</td>\n",
       "      <td>369.372960</td>\n",
       "      <td>-406.037720</td>\n",
       "      <td>-327.020416</td>\n",
       "      <td>-369.272910</td>\n",
       "      <td>79.017304</td>\n",
       "      <td>1</td>\n",
       "      <td>NORMAL</td>\n",
       "    </tr>\n",
       "    <tr>\n",
       "      <th>4</th>\n",
       "      <td>4</td>\n",
       "      <td>369.222165</td>\n",
       "      <td>-457.929657</td>\n",
       "      <td>-237.918365</td>\n",
       "      <td>-369.154709</td>\n",
       "      <td>220.011292</td>\n",
       "      <td>1</td>\n",
       "      <td>NORMAL</td>\n",
       "    </tr>\n",
       "  </tbody>\n",
       "</table>\n",
       "</div>"
      ],
      "text/plain": [
       "   EXP_NO         RMS       MIN_I       MAX_I        MEAN         P2P  STATUS  \\\n",
       "0       0  369.778456 -412.006744 -324.709839 -369.685592   87.296905       1   \n",
       "1       1  369.435434 -427.049622 -311.159180 -369.361992  115.890442       1   \n",
       "2       2  369.370142 -405.845154 -328.079437 -369.276471   77.765717       1   \n",
       "3       3  369.372960 -406.037720 -327.020416 -369.272910   79.017304       1   \n",
       "4       4  369.222165 -457.929657 -237.918365 -369.154709  220.011292       1   \n",
       "\n",
       "    LABEL  \n",
       "0  NORMAL  \n",
       "1  NORMAL  \n",
       "2  NORMAL  \n",
       "3  NORMAL  \n",
       "4  NORMAL  "
      ]
     },
     "execution_count": 27,
     "metadata": {},
     "output_type": "execute_result"
    }
   ],
   "source": [
    "df = pd.read_excel('D:/Internship 2021/Project Data and Codes/Lathe Vibration Project Data/Classification_data.xlsx')\n",
    "type(df)\n",
    "df.head()"
   ]
  },
  {
   "cell_type": "code",
   "execution_count": 28,
   "metadata": {},
   "outputs": [
    {
     "data": {
      "text/html": [
       "<div>\n",
       "<style scoped>\n",
       "    .dataframe tbody tr th:only-of-type {\n",
       "        vertical-align: middle;\n",
       "    }\n",
       "\n",
       "    .dataframe tbody tr th {\n",
       "        vertical-align: top;\n",
       "    }\n",
       "\n",
       "    .dataframe thead th {\n",
       "        text-align: right;\n",
       "    }\n",
       "</style>\n",
       "<table border=\"1\" class=\"dataframe\">\n",
       "  <thead>\n",
       "    <tr style=\"text-align: right;\">\n",
       "      <th></th>\n",
       "      <th>RMS</th>\n",
       "    </tr>\n",
       "  </thead>\n",
       "  <tbody>\n",
       "    <tr>\n",
       "      <th>0</th>\n",
       "      <td>369.778456</td>\n",
       "    </tr>\n",
       "    <tr>\n",
       "      <th>1</th>\n",
       "      <td>369.435434</td>\n",
       "    </tr>\n",
       "    <tr>\n",
       "      <th>2</th>\n",
       "      <td>369.370142</td>\n",
       "    </tr>\n",
       "    <tr>\n",
       "      <th>3</th>\n",
       "      <td>369.372960</td>\n",
       "    </tr>\n",
       "    <tr>\n",
       "      <th>4</th>\n",
       "      <td>369.222165</td>\n",
       "    </tr>\n",
       "  </tbody>\n",
       "</table>\n",
       "</div>"
      ],
      "text/plain": [
       "          RMS\n",
       "0  369.778456\n",
       "1  369.435434\n",
       "2  369.370142\n",
       "3  369.372960\n",
       "4  369.222165"
      ]
     },
     "execution_count": 28,
     "metadata": {},
     "output_type": "execute_result"
    }
   ],
   "source": [
    "X = df[['RMS']]\n",
    "y = df[['STATUS']]\n",
    "X.head()"
   ]
  },
  {
   "cell_type": "code",
   "execution_count": 29,
   "metadata": {},
   "outputs": [
    {
     "data": {
      "text/html": [
       "<div>\n",
       "<style scoped>\n",
       "    .dataframe tbody tr th:only-of-type {\n",
       "        vertical-align: middle;\n",
       "    }\n",
       "\n",
       "    .dataframe tbody tr th {\n",
       "        vertical-align: top;\n",
       "    }\n",
       "\n",
       "    .dataframe thead th {\n",
       "        text-align: right;\n",
       "    }\n",
       "</style>\n",
       "<table border=\"1\" class=\"dataframe\">\n",
       "  <thead>\n",
       "    <tr style=\"text-align: right;\">\n",
       "      <th></th>\n",
       "      <th>STATUS</th>\n",
       "    </tr>\n",
       "  </thead>\n",
       "  <tbody>\n",
       "    <tr>\n",
       "      <th>0</th>\n",
       "      <td>1</td>\n",
       "    </tr>\n",
       "    <tr>\n",
       "      <th>1</th>\n",
       "      <td>1</td>\n",
       "    </tr>\n",
       "    <tr>\n",
       "      <th>2</th>\n",
       "      <td>1</td>\n",
       "    </tr>\n",
       "    <tr>\n",
       "      <th>3</th>\n",
       "      <td>1</td>\n",
       "    </tr>\n",
       "    <tr>\n",
       "      <th>4</th>\n",
       "      <td>1</td>\n",
       "    </tr>\n",
       "  </tbody>\n",
       "</table>\n",
       "</div>"
      ],
      "text/plain": [
       "   STATUS\n",
       "0       1\n",
       "1       1\n",
       "2       1\n",
       "3       1\n",
       "4       1"
      ]
     },
     "execution_count": 29,
     "metadata": {},
     "output_type": "execute_result"
    }
   ],
   "source": [
    "y.head()"
   ]
  },
  {
   "cell_type": "code",
   "execution_count": 30,
   "metadata": {},
   "outputs": [
    {
     "data": {
      "text/html": [
       "<div>\n",
       "<style scoped>\n",
       "    .dataframe tbody tr th:only-of-type {\n",
       "        vertical-align: middle;\n",
       "    }\n",
       "\n",
       "    .dataframe tbody tr th {\n",
       "        vertical-align: top;\n",
       "    }\n",
       "\n",
       "    .dataframe thead th {\n",
       "        text-align: right;\n",
       "    }\n",
       "</style>\n",
       "<table border=\"1\" class=\"dataframe\">\n",
       "  <thead>\n",
       "    <tr style=\"text-align: right;\">\n",
       "      <th></th>\n",
       "      <th>RMS</th>\n",
       "    </tr>\n",
       "  </thead>\n",
       "  <tbody>\n",
       "    <tr>\n",
       "      <th>34</th>\n",
       "      <td>369.051396</td>\n",
       "    </tr>\n",
       "    <tr>\n",
       "      <th>58</th>\n",
       "      <td>369.881261</td>\n",
       "    </tr>\n",
       "    <tr>\n",
       "      <th>40</th>\n",
       "      <td>369.660894</td>\n",
       "    </tr>\n",
       "    <tr>\n",
       "      <th>22</th>\n",
       "      <td>369.909567</td>\n",
       "    </tr>\n",
       "    <tr>\n",
       "      <th>4</th>\n",
       "      <td>369.222165</td>\n",
       "    </tr>\n",
       "  </tbody>\n",
       "</table>\n",
       "</div>"
      ],
      "text/plain": [
       "           RMS\n",
       "34  369.051396\n",
       "58  369.881261\n",
       "40  369.660894\n",
       "22  369.909567\n",
       "4   369.222165"
      ]
     },
     "execution_count": 30,
     "metadata": {},
     "output_type": "execute_result"
    }
   ],
   "source": [
    "X_train,X_test,y_train,y_test = train_test_split(X,y,test_size=0.10,random_state=0)\n",
    "X_train.head()"
   ]
  },
  {
   "cell_type": "code",
   "execution_count": 31,
   "metadata": {},
   "outputs": [
    {
     "name": "stderr",
     "output_type": "stream",
     "text": [
      "d:\\python 3.9\\lib\\site-packages\\sklearn\\utils\\validation.py:63: DataConversionWarning: A column-vector y was passed when a 1d array was expected. Please change the shape of y to (n_samples, ), for example using ravel().\n",
      "  return f(*args, **kwargs)\n"
     ]
    }
   ],
   "source": [
    "logistic_regression= LogisticRegression()\n",
    "model = logistic_regression.fit(X_train,y_train)"
   ]
  },
  {
   "cell_type": "code",
   "execution_count": 32,
   "metadata": {},
   "outputs": [
    {
     "data": {
      "text/plain": [
       "array([0, 1], dtype=int64)"
      ]
     },
     "execution_count": 32,
     "metadata": {},
     "output_type": "execute_result"
    }
   ],
   "source": [
    "model.classes_"
   ]
  },
  {
   "cell_type": "code",
   "execution_count": 33,
   "metadata": {},
   "outputs": [
    {
     "data": {
      "text/plain": [
       "array([3.00529739e-05])"
      ]
     },
     "execution_count": 33,
     "metadata": {},
     "output_type": "execute_result"
    }
   ],
   "source": [
    "model.intercept_"
   ]
  },
  {
   "cell_type": "code",
   "execution_count": 34,
   "metadata": {},
   "outputs": [
    {
     "data": {
      "text/plain": [
       "array([[0.01071933]])"
      ]
     },
     "execution_count": 34,
     "metadata": {},
     "output_type": "execute_result"
    }
   ],
   "source": [
    "model.coef_"
   ]
  },
  {
   "cell_type": "code",
   "execution_count": 45,
   "metadata": {},
   "outputs": [
    {
     "data": {
      "text/plain": [
       "array([[0.01872653, 0.98127347],\n",
       "       [0.01879088, 0.98120912],\n",
       "       [0.01863758, 0.98136242],\n",
       "       [0.01873046, 0.98126954],\n",
       "       [0.01846284, 0.98153716],\n",
       "       [0.01871694, 0.98128306]])"
      ]
     },
     "execution_count": 45,
     "metadata": {},
     "output_type": "execute_result"
    }
   ],
   "source": [
    "model.predict_proba(X_test)"
   ]
  },
  {
   "cell_type": "code",
   "execution_count": 35,
   "metadata": {},
   "outputs": [],
   "source": [
    "y_pred=logistic_regression.predict(X_test)"
   ]
  },
  {
   "cell_type": "code",
   "execution_count": 36,
   "metadata": {},
   "outputs": [
    {
     "data": {
      "text/plain": [
       "array([1, 1, 1, 1, 1, 1], dtype=int64)"
      ]
     },
     "execution_count": 36,
     "metadata": {},
     "output_type": "execute_result"
    }
   ],
   "source": [
    "y_pred"
   ]
  },
  {
   "cell_type": "code",
   "execution_count": 37,
   "metadata": {},
   "outputs": [
    {
     "data": {
      "text/plain": [
       "array([[6]], dtype=int64)"
      ]
     },
     "execution_count": 37,
     "metadata": {},
     "output_type": "execute_result"
    }
   ],
   "source": [
    "metrics.confusion_matrix(y_test, y_pred)"
   ]
  },
  {
   "cell_type": "code",
   "execution_count": 38,
   "metadata": {},
   "outputs": [
    {
     "name": "stdout",
     "output_type": "stream",
     "text": [
      "Accuracy:  1.0\n"
     ]
    }
   ],
   "source": [
    "print('Accuracy: ',metrics.accuracy_score(y_test, y_pred))\n",
    "plt.show()"
   ]
  },
  {
   "cell_type": "code",
   "execution_count": 44,
   "metadata": {},
   "outputs": [
    {
     "name": "stdout",
     "output_type": "stream",
     "text": [
      "              precision    recall  f1-score   support\n",
      "\n",
      "           1       1.00      1.00      1.00         6\n",
      "\n",
      "    accuracy                           1.00         6\n",
      "   macro avg       1.00      1.00      1.00         6\n",
      "weighted avg       1.00      1.00      1.00         6\n",
      "\n"
     ]
    }
   ],
   "source": [
    "print(classification_report(y_test, y_pred))"
   ]
  },
  {
   "cell_type": "code",
   "execution_count": null,
   "metadata": {},
   "outputs": [],
   "source": []
  }
 ],
 "metadata": {
  "kernelspec": {
   "display_name": "Python 3",
   "language": "python",
   "name": "python3"
  },
  "language_info": {
   "codemirror_mode": {
    "name": "ipython",
    "version": 3
   },
   "file_extension": ".py",
   "mimetype": "text/x-python",
   "name": "python",
   "nbconvert_exporter": "python",
   "pygments_lexer": "ipython3",
   "version": "3.9.6"
  }
 },
 "nbformat": 4,
 "nbformat_minor": 2
}
